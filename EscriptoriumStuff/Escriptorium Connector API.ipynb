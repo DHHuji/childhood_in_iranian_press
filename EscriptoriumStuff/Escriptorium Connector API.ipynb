{
 "cells": [
  {
   "cell_type": "code",
   "execution_count": null,
   "id": "b1c9d393",
   "metadata": {},
   "outputs": [],
   "source": [
    "from escriptorium_connector import EscriptoriumConnector\n",
    "from escriptorium_connector.dtos import PostProject, PostDocument, ReadDirection, LineOffset\n",
    "import os\n",
    "from dataclasses import dataclass\n",
    "import json\n"
   ]
  },
  {
   "cell_type": "code",
   "execution_count": null,
   "id": "dec00594",
   "metadata": {},
   "outputs": [],
   "source": [
    "\n",
    "# eScriptorium instance details\n",
    "ESCIPTORIUM_URL = 'http://localhost:8080'  # Replace with your instance URL\n",
    "USERNAME = 'admin'\n",
    "PASSWORD = 'admin'\n",
    "\n",
    "# Initialize the connector\n",
    "connector = EscriptoriumConnector(ESCIPTORIUM_URL, USERNAME, PASSWORD)\n",
    "\n",
    "# Initialize the connector using the API token\n",
    "# API_TOKEN = #Replace with your actual API token\n",
    "# connector = EscriptoriumConnector(ESCIPTORIUM_URL, api_key=API_TOKEN, project=PROJECT_NAME)"
   ]
  },
  {
   "cell_type": "code",
   "execution_count": null,
   "id": "3e965aa2",
   "metadata": {},
   "outputs": [],
   "source": [
    "# create new project\n",
    "\n",
    "# Create a new project\n",
    "new_project_name = \"My New Project\"  # Give your project a name\n",
    "new_project_name_slug = \"my-new-roject\"\n",
    "project_data = PostProject(name=new_project_name, slug=new_project_name_slug)  # The slug is usually a URL-friendly version of the name\n",
    "new_project = connector.create_project(project_data)\n",
    "\n",
    "print(f\"Created new project: {new_project.name}\")\n"
   ]
  },
  {
   "cell_type": "code",
   "execution_count": null,
   "id": "8e8e71bf",
   "metadata": {},
   "outputs": [],
   "source": [
    "# initialize an instance from an existing project\n",
    "\n",
    "PROJECT_NAME = 'project name' # replace with project name\n",
    "\n",
    "new_project = connector.get_project(connector.get_project_pk_by_name(PROJECT_NAME))\n",
    "project_slug = connector.get_project(connector.get_project_pk_by_name(PROJECT_NAME)).slug\n"
   ]
  },
  {
   "cell_type": "code",
   "execution_count": null,
   "id": "fae7bad9",
   "metadata": {},
   "outputs": [],
   "source": [
    "#create a new document\n",
    "\n",
    "new_document_name = \"My real new document\"\n",
    "main_script = \"Persian\"\n",
    "\n",
    "\n",
    "document_data = PostDocument(\n",
    "    name=new_document_name,\n",
    "    project=project_slug,\n",
    "    main_script=main_script,\n",
    "    read_direction=ReadDirection.LTR, #note \n",
    "    line_offset=LineOffset.BASELINE,\n",
    "    tags=[]\n",
    ")\n",
    "\n",
    "# Modify the create_document method in EscriptoriumConnector class\n",
    "def create_document_debug(connector, doc_data):\n",
    "    url = f\"{connector.api_url}documents/\"\n",
    "    # Convert the dataclass to a dictionary\n",
    "    payload = doc_data.__dict__\n",
    "    print(f\"Request URL: {url}\")\n",
    "    print(f\"Payload: {payload}\")\n",
    "\n",
    "    # Perform the POST request\n",
    "    response = connector.http.post(url, json=payload)\n",
    "\n",
    "    # Print raw response text\n",
    "    print(f\"Raw Response: {response.text}\")\n",
    "\n",
    "\n",
    "# Call the modified create_document method\n",
    "create_document_debug(connector, document_data)"
   ]
  },
  {
   "cell_type": "code",
   "execution_count": null,
   "id": "08c88a12",
   "metadata": {},
   "outputs": [],
   "source": [
    "# locate your document ID (pk)\n",
    "connector.get_documents()\n"
   ]
  },
  {
   "cell_type": "code",
   "execution_count": null,
   "id": "9a75685c",
   "metadata": {},
   "outputs": [],
   "source": [
    "# Upload images to an existing document\n",
    "\n",
    "IMAGE_FOLDER = \"path to folder\" #\"Images\"  #\n",
    "\n",
    "# ID of the document to which the images will be uploaded\n",
    "DOCUMENT_ID = connector.get_document(7).pk  # Replace with your document ID\n",
    "\n",
    "@dataclass\n",
    "class ImageDataInfo:\n",
    "    filename: str\n",
    "    # Add other fields here if needed\n",
    "\n",
    "def upload_images_to_document(connector, folder_path, document_id):\n",
    "    \"\"\"Uploads image files to a specified document in eScriptorium.\"\"\"\n",
    "    for filename in os.listdir(folder_path):\n",
    "        if filename.lower().endswith(('.png', '.jpg', '.jpeg', '.tif', '.tiff')):  # Add/remove extensions as needed\n",
    "            file_path = os.path.join(folder_path, filename)\n",
    "            with open(file_path, 'rb') as file:\n",
    "                # Prepare image data for upload\n",
    "                image_data = file.read()\n",
    "\n",
    "                # Create an instance of the dataclass\n",
    "                image_data_info = ImageDataInfo(filename=filename)\n",
    "\n",
    "                # Upload the image\n",
    "                #print(f\"Uploading {filename} to document {document_id}...\")\n",
    "                response = connector.create_document_part(\n",
    "                    document_pk=document_id, \n",
    "                    image_data_info=image_data_info, \n",
    "                    filename=filename, \n",
    "                    image_data=image_data\n",
    "                )\n",
    "                print(f\"Finished uploading {filename}\")\n",
    "\n",
    "                \n",
    "# Start the upload process\n",
    "upload_images_to_document(connector, IMAGE_FOLDER, DOCUMENT_ID)"
   ]
  },
  {
   "cell_type": "code",
   "execution_count": null,
   "id": "433da79d",
   "metadata": {
    "scrolled": true
   },
   "outputs": [],
   "source": [
    "# upload page XMLs for existing document and images\n",
    "\n",
    "PAGE_FOLDER = \"path to folder\"\n",
    "\n",
    "# ID of the document to which the images will be uploaded\n",
    "DOCUMENT_ID = connector.get_document(7).pk  # Replace with your document ID\n",
    "\n",
    "def upload_xmls_to_document(connector, folder_path, document_id):\n",
    "    \"\"\"Uploads image files to a specified document in eScriptorium.\"\"\"\n",
    "    for filename in os.listdir(folder_path):\n",
    "        if filename.lower().endswith('.xml'):  # Add/remove extensions as needed\n",
    "            file_path = os.path.join(folder_path, filename)\n",
    "            with open(file_path, 'rb') as file:\n",
    "                # Prepare image data for upload\n",
    "                file_data = file.read()\n",
    "\n",
    "                # Upload the image\n",
    "                print(f\"Uploading {filename} to document {document_id}...\")\n",
    "                response = connector.upload_part_transcription(\n",
    "                    document_pk=document_id, \n",
    "                    transcription_name = 'transcript', \n",
    "                    filename=filename, \n",
    "                    file_data=file_data,\n",
    "                    override='off' #change to on if you want to override existing transciptions\n",
    "                )\n",
    "                print(f\"Finished uploading {filename}\")\n",
    "\n",
    "                \n",
    "# Start the upload process\n",
    "upload_xmls_to_document(connector, PAGE_FOLDER, DOCUMENT_ID)"
   ]
  }
 ],
 "metadata": {
  "kernelspec": {
   "display_name": "Python 3",
   "language": "python",
   "name": "python3"
  },
  "language_info": {
   "codemirror_mode": {
    "name": "ipython",
    "version": 3
   },
   "file_extension": ".py",
   "mimetype": "text/x-python",
   "name": "python",
   "nbconvert_exporter": "python",
   "pygments_lexer": "ipython3",
   "version": "3.8.8"
  }
 },
 "nbformat": 4,
 "nbformat_minor": 5
}
